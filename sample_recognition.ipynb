{
 "cells": [
  {
   "cell_type": "code",
   "execution_count": 25,
   "metadata": {
    "collapsed": true
   },
   "outputs": [],
   "source": [
    "import io\n",
    "import os\n",
    "\n",
    "import cv2\n",
    "from google.cloud import vision\n",
    "from google.cloud.vision_v1 import enums\n",
    "import matplotlib.pyplot as plt\n",
    "import pdf2image"
   ]
  },
  {
   "cell_type": "code",
   "execution_count": 26,
   "outputs": [],
   "source": [
    "PROJECT_PATH = os.getcwd()\n",
    "GCP_KEY_PATH = str(os.path.join(PROJECT_PATH, \"key/gcp_vision_key.json\"))"
   ],
   "metadata": {
    "collapsed": false,
    "pycharm": {
     "name": "#%%\n"
    }
   }
  },
  {
   "cell_type": "code",
   "execution_count": 27,
   "outputs": [],
   "source": [
    "os.environ[\"GOOGLE_APPLICATION_CREDENTIALS\"] = GCP_KEY_PATH"
   ],
   "metadata": {
    "collapsed": false,
    "pycharm": {
     "name": "#%%\n"
    }
   }
  },
  {
   "cell_type": "code",
   "execution_count": 28,
   "outputs": [],
   "source": [
    "file_path = \"./CV_2020-Vizi-Zsolt.pdf\""
   ],
   "metadata": {
    "collapsed": false,
    "pycharm": {
     "name": "#%%\n"
    }
   }
  },
  {
   "cell_type": "code",
   "execution_count": 29,
   "outputs": [],
   "source": [
    "# Set proper mime_type\n",
    "mime_type = 'application/pdf'\n",
    "# Instantiates a client\n",
    "client = vision.ImageAnnotatorClient()"
   ],
   "metadata": {
    "collapsed": false,
    "pycharm": {
     "name": "#%%\n"
    }
   }
  },
  {
   "cell_type": "code",
   "execution_count": 30,
   "outputs": [],
   "source": [
    "# Loads the image into memory\n",
    "with io.open(file_path, 'rb') as f:\n",
    "    content = f.read()\n",
    "input_config = {'mime_type': mime_type, 'content': content}"
   ],
   "metadata": {
    "collapsed": false,
    "pycharm": {
     "name": "#%%\n"
    }
   }
  },
  {
   "cell_type": "code",
   "execution_count": 31,
   "outputs": [
    {
     "name": "stdout",
     "output_type": "stream",
     "text": [
      "Initialization is complete!\n"
     ]
    }
   ],
   "source": [
    "features_element = {'type': enums.Feature.Type.DOCUMENT_TEXT_DETECTION  }\n",
    "features = [features_element]\n",
    "\n",
    "# The service can process up to 5 pages per document file\n",
    "pages = [1]\n",
    "\n",
    "requests_element = {'input_config': input_config,\n",
    "                    'features': features, 'pages': pages}\n",
    "requests = [requests_element]\n",
    "print(\"Initialization is complete!\")"
   ],
   "metadata": {
    "collapsed": false,
    "pycharm": {
     "name": "#%%\n"
    }
   }
  },
  {
   "cell_type": "code",
   "execution_count": 32,
   "outputs": [],
   "source": [
    "response = client.batch_annotate_files(requests)\n",
    "image_responses = response.responses[0].responses"
   ],
   "metadata": {
    "collapsed": false,
    "pycharm": {
     "name": "#%%\n"
    }
   }
  },
  {
   "cell_type": "code",
   "execution_count": 33,
   "outputs": [],
   "source": [
    "identifier = 0\n",
    "page_idx = -1\n",
    "word_collection = []\n",
    "for image_response in image_responses:\n",
    "    for page in image_response.full_text_annotation.pages:\n",
    "        page_idx += 1\n",
    "        block_idx = -1\n",
    "        for block in page.blocks:\n",
    "            block_idx += 1\n",
    "            if block.block_type == vision.enums.Block.BlockType.TEXT:\n",
    "                para_idx = -1\n",
    "                for paragraph in block.paragraphs:\n",
    "                    para_idx += 1\n",
    "                    line_idx = 0\n",
    "                    for ocr_word in paragraph.words:\n",
    "                        # get word from symbols\n",
    "                        word_text = ''\n",
    "                        for symbol in ocr_word.symbols:\n",
    "                            word_text += symbol.text\n",
    "\n",
    "                        # get coordinates of the bounding box of the word\n",
    "                        ocr_bottom_left_coord = ocr_word.bounding_box.normalized_vertices[3]\n",
    "                        ocr_top_right_coord = ocr_word.bounding_box.normalized_vertices[1]\n",
    "                        # y coordinate should be transformed y_new = y_image - y_old\n",
    "                        bottom_left_coord = {\"x\": ocr_bottom_left_coord.x,\n",
    "                                             \"y\": 1.0 - ocr_bottom_left_coord.y}\n",
    "                        top_right_coord = {\"x\": ocr_top_right_coord.x,\n",
    "                                             \"y\": 1.0 - ocr_top_right_coord.y}\n",
    "\n",
    "                        # the last symbol of the word contains detected_break\n",
    "                        break_type = symbol.property.detected_break.type\n",
    "\n",
    "                        # handle quotation marks by replacing \" with \\\"\n",
    "                        word_text = word_text.replace('\"', '\\\\\"')\n",
    "                        # create a word instance and add to _wordCollection\n",
    "                        word_collection.append(\n",
    "                            {\n",
    "                                \"text\": word_text,\n",
    "                                \"bounding_box\": {\"bottom_left\": bottom_left_coord,\n",
    "                                                 \"top_right\": top_right_coord},\n",
    "                                \"line\": line_idx,\n",
    "                                \"paragraph\": para_idx,\n",
    "                                \"identifier\": identifier,\n",
    "                                \"confidence\": ocr_word.confidence * 100.0,\n",
    "                                \"block_idx\": block_idx\n",
    "                            })\n",
    "                        identifier += 1\n",
    "\n",
    "                        if break_type == vision.enums.TextAnnotation.DetectedBreak.BreakType.EOL_SURE_SPACE:\n",
    "                            # new line\n",
    "                            line_idx += 1"
   ],
   "metadata": {
    "collapsed": false,
    "pycharm": {
     "name": "#%%\n"
    }
   }
  },
  {
   "cell_type": "code",
   "execution_count": 34,
   "outputs": [],
   "source": [
    "dpi = 200\n",
    "formatum = 'jpg'\n",
    "output_image = pdf2image.convert_from_path(pdf_path=file_path,\n",
    "                                            dpi=dpi,\n",
    "                                            output_folder=None,\n",
    "                                            first_page=None,\n",
    "                                            last_page=None,\n",
    "                                            fmt=formatum,\n",
    "                                            thread_count=1,\n",
    "                                            userpw=None,\n",
    "                                            use_cropbox=False,\n",
    "                                            strict=False)\n",
    "output_image[0].save(\"./cv_image.jpg\")"
   ],
   "metadata": {
    "collapsed": false,
    "pycharm": {
     "name": "#%%\n"
    }
   }
  },
  {
   "cell_type": "code",
   "execution_count": 35,
   "outputs": [],
   "source": [
    "img = cv2.imread(\"./cv_image.jpg\")"
   ],
   "metadata": {
    "collapsed": false,
    "pycharm": {
     "name": "#%%\n"
    }
   }
  },
  {
   "cell_type": "code",
   "execution_count": 36,
   "outputs": [
    {
     "data": {
      "text/plain": "True"
     },
     "execution_count": 36,
     "metadata": {},
     "output_type": "execute_result"
    },
    {
     "data": {
      "text/plain": "<Figure size 432x288 with 1 Axes>",
      "image/png": "[encoded data removed]"
     },
     "metadata": {
      "needs_background": "light"
     },
     "output_type": "display_data"
    }
   ],
   "source": [
    "# draw boxes, colored according to confidence of the text\n",
    "height = img.shape[0]\n",
    "width = img.shape[1]\n",
    "\n",
    "for word in word_collection:\n",
    "    # box coordinates\n",
    "    margin = 0\n",
    "    box1_p1 = (\n",
    "        int(word[\"bounding_box\"][\"bottom_left\"][\"x\"] * width) - margin,\n",
    "        height - int(word[\"bounding_box\"][\"bottom_left\"][\"y\"] * height) + margin)\n",
    "    box1_p2 = (\n",
    "        int(word[\"bounding_box\"][\"top_right\"][\"x\"] * width) + margin,\n",
    "        height - int(word[\"bounding_box\"][\"top_right\"][\"y\"] * height) - margin)\n",
    "\n",
    "    cv2.rectangle(img=img, pt1=box1_p1, pt2=box1_p2, color=(0,0,0))\n",
    "plt.imshow(img)\n",
    "cv2.imwrite(\"./cv_bounding_box.jpg\", img)"
   ],
   "metadata": {
    "collapsed": false,
    "pycharm": {
     "name": "#%%\n"
    }
   }
  },
  {
   "cell_type": "code",
   "execution_count": 36,
   "outputs": [],
   "source": [
    "\n"
   ],
   "metadata": {
    "collapsed": false,
    "pycharm": {
     "name": "#%%\n"
    }
   }
  }
 ],
 "metadata": {
  "kernelspec": {
   "display_name": "Python 3",
   "language": "python",
   "name": "python3"
  },
  "language_info": {
   "codemirror_mode": {
    "name": "ipython",
    "version": 2
   },
   "file_extension": ".py",
   "mimetype": "text/x-python",
   "name": "python",
   "nbconvert_exporter": "python",
   "pygments_lexer": "ipython2",
   "version": "2.7.6"
  }
 },
 "nbformat": 4,
 "nbformat_minor": 0
}